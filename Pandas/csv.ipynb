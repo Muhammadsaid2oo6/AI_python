{
 "cells": [
  {
   "cell_type": "code",
   "execution_count": null,
   "metadata": {},
   "outputs": [],
   "source": [
    "import pandas as pd \n",
    "\n",
    "\n",
    "path = r\"/home/said/Desktop/ai_2/AI_python/Pandas/students.csv\"\n",
    "path2 = r\"/home/said/Desktop/ai_2/AI_python/Pandas/movie.csv\"\n",
    "\n",
    "df = pd.read_csv(path)\n",
    "df2 = pd.read_csv(path2)\n",
    "\n",
    "print(df)\n",
    "print(df2.head(30))\n",
    "print(df.shape) "
   ]
  },
  {
   "cell_type": "code",
   "execution_count": 10,
   "metadata": {},
   "outputs": [],
   "source": [
    "import numpy as np \n",
    "x = np.array(df.Hours)\n",
    "y = np.array(df.Scores)\n",
    "n = len(x)"
   ]
  },
  {
   "cell_type": "code",
   "execution_count": 13,
   "metadata": {},
   "outputs": [],
   "source": [
    "m = (n*np.sum(x*y)-np.sum(x)*np.sum(y))/(n*np.sum(np.power(x,2))-np.power(np.sum(x),2))\n",
    "b = (np.sum(y)-m*np.sum(x))/n"
   ]
  },
  {
   "cell_type": "code",
   "execution_count": 15,
   "metadata": {},
   "outputs": [],
   "source": [
    "y1 = m*x+b\n",
    "e = 1/n*np.sum(np.power(y-y1,2))"
   ]
  },
  {
   "cell_type": "code",
   "execution_count": 21,
   "metadata": {},
   "outputs": [],
   "source": [
    "d_m = (-2/n)*np.sum(x*(y-y1))\n",
    "d_c = (-2/n)*np.sum(y-y1)"
   ]
  },
  {
   "cell_type": "code",
   "execution_count": 26,
   "metadata": {},
   "outputs": [],
   "source": [
    "m = 0\n",
    "c = 0 \n",
    "L = 0.1\n",
    "\n",
    "m = m - L * d_m\n",
    "c = c - L * d_c\n"
   ]
  },
  {
   "cell_type": "code",
   "execution_count": null,
   "metadata": {},
   "outputs": [],
   "source": []
  }
 ],
 "metadata": {
  "kernelspec": {
   "display_name": "Python 3",
   "language": "python",
   "name": "python3"
  },
  "language_info": {
   "codemirror_mode": {
    "name": "ipython",
    "version": 3
   },
   "file_extension": ".py",
   "mimetype": "text/x-python",
   "name": "python",
   "nbconvert_exporter": "python",
   "pygments_lexer": "ipython3",
   "version": "3.11.4"
  },
  "orig_nbformat": 4
 },
 "nbformat": 4,
 "nbformat_minor": 2
}
